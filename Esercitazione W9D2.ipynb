{
 "cells": [
  {
   "cell_type": "code",
   "execution_count": 3,
   "id": "d10ecbc4-7542-429d-8179-d974743319da",
   "metadata": {},
   "outputs": [
    {
     "name": "stdout",
     "output_type": "stream",
     "text": [
      "E\n",
      "p\n",
      "i\n",
      "c\n",
      "o\n",
      "d\n",
      "e\n"
     ]
    }
   ],
   "source": [
    "#Esercizio 1)\n",
    "nome_scuola = \"Epicode\"\n",
    "index = 0 # inizializzazione indice\n",
    "\n",
    "while index < len(nome_scuola): #condizione per finire il loop \n",
    "    print(nome_scuola[index]) #stampa l'indice di \"nome_scuola\"\n",
    "    index += 1 #incrementale per non fare loop infinito\n"
   ]
  },
  {
   "cell_type": "code",
   "execution_count": 5,
   "id": "16eedbc9-8128-454e-8cf3-cc3deed8f212",
   "metadata": {},
   "outputs": [
    {
     "name": "stdout",
     "output_type": "stream",
     "text": [
      "0\n",
      "1\n",
      "2\n",
      "3\n",
      "4\n",
      "5\n",
      "6\n",
      "7\n",
      "8\n",
      "9\n",
      "10\n",
      "11\n",
      "12\n",
      "13\n",
      "14\n",
      "15\n",
      "16\n",
      "17\n",
      "18\n",
      "19\n",
      "20\n"
     ]
    }
   ],
   "source": [
    "#Esercizio 2)\n",
    "numero = 0 #inizializzazione variabile partendo da 0\n",
    "\n",
    "while numero <= 20: #settaggio condizione per il loop\n",
    "    print(numero)\n",
    "    numero +=1 #incremento di uno per stampare i numeri in successione"
   ]
  },
  {
   "cell_type": "code",
   "execution_count": 17,
   "id": "5688bc8a-99f9-4ade-8f45-049a73b58ce3",
   "metadata": {},
   "outputs": [
    {
     "name": "stdout",
     "output_type": "stream",
     "text": [
      "1\n",
      "2\n",
      "4\n",
      "8\n",
      "16\n",
      "32\n",
      "64\n",
      "128\n",
      "256\n",
      "512\n"
     ]
    }
   ],
   "source": [
    "#Esercizio 3)\n",
    "numero = 2 #inizializzazione numero 2\n",
    "potenza = 0 #inizializzazione esponente \n",
    "\n",
    "while potenza < 10:  #limite al ciclo \n",
    "    print(numero**potenza) #stampare il risultato delle potenze\n",
    "    potenza +=1 #incremento ad ogni ciclo"
   ]
  },
  {
   "cell_type": "code",
   "execution_count": 20,
   "id": "5aca4278-276c-4f49-a8f3-d3af979f6959",
   "metadata": {},
   "outputs": [
    {
     "name": "stdin",
     "output_type": "stream",
     "text": [
      "Inserici il numero massimo di volte:  10\n"
     ]
    },
    {
     "name": "stdout",
     "output_type": "stream",
     "text": [
      "1\n",
      "2\n",
      "4\n",
      "8\n",
      "16\n",
      "32\n",
      "64\n",
      "128\n",
      "256\n",
      "512\n"
     ]
    }
   ],
   "source": [
    "#Esercizio 4)\n",
    "N = int(input(\"Inserici il numero massimo di volte: \")) #input da inserire manualmente per decidere il massimo di volte di esecuzione del loop\n",
    "\n",
    "i = 0 #frequenza di operazione\n",
    "potenza = 0 #esponente\n",
    "\n",
    "while i < N: #limite del loop \n",
    "    print(2**potenza) \n",
    "    i += 1 #incremento volte di esecuzione\n",
    "    potenza +=1 #incremento potenza\n",
    "\n",
    "    "
   ]
  },
  {
   "cell_type": "code",
   "execution_count": 25,
   "id": "6550fa4f-c60a-4b19-bb56-c6f0a2a380d2",
   "metadata": {},
   "outputs": [
    {
     "name": "stdout",
     "output_type": "stream",
     "text": [
      "1\n",
      "2\n",
      "4\n",
      "8\n",
      "16\n",
      "32\n",
      "64\n",
      "128\n",
      "256\n",
      "512\n",
      "1024\n",
      "2048\n",
      "4096\n",
      "8192\n",
      "16384\n"
     ]
    }
   ],
   "source": [
    "#Esercizio 5) utilizzando WHILE \n",
    "potenza = 1 #inizializzato il risultato \n",
    "while potenza < 25000: #posta la condizione per finire il loop\n",
    "    print(potenza)\n",
    "    potenza *= 2 #potenza moltiplicata per 2 per trovare tutte le potenze di 2 minori di 25000"
   ]
  },
  {
   "cell_type": "code",
   "execution_count": 44,
   "id": "d5f64566-05fb-4ab9-80d8-c21f42a9b044",
   "metadata": {},
   "outputs": [
    {
     "name": "stdin",
     "output_type": "stream",
     "text": [
      "Inserisci una stringa:  computer\n"
     ]
    },
    {
     "name": "stdout",
     "output_type": "stream",
     "text": [
      "com...ter\n"
     ]
    }
   ],
   "source": [
    "#Esercizio 6) \n",
    "stringa = input(\"Inserisci una stringa: \") #input da inserire manualmente\n",
    "\n",
    "if len(stringa) < 6:\n",
    "    risultato = stringa #in caso la stringa sia inferiore ai 6 caratteri\n",
    "else:\n",
    "    risultato = stringa[:3] + '...' + stringa[-3:] #se è superiore ai 6 caratteri\n",
    "\n",
    "print(risultato)\n"
   ]
  },
  {
   "cell_type": "code",
   "execution_count": 52,
   "id": "c7a9badd-1392-40d0-9da9-e7a028a86605",
   "metadata": {},
   "outputs": [
    {
     "name": "stdin",
     "output_type": "stream",
     "text": [
      "Inserisci un numero:  135\n"
     ]
    },
    {
     "name": "stdout",
     "output_type": "stream",
     "text": [
      "[3, 3, 3, 5]\n"
     ]
    }
   ],
   "source": [
    "#Esercizio 7)\n",
    "num = int(input(\"Inserisci un numero: \")) #input manuale da verificare se è un numero primo\n",
    "fattori = [] #lista di fattori primi da memorizzare per l'input messo\n",
    "\n",
    "n = num \n",
    "i = 2 #primo numero primo \n",
    "while n >= i: #condizione in cui specifica che il numero primo verificato sia sempre più grande dei numeri primi in serie\n",
    "    while n % i == 0: #condizione in cui i sia un fattore di n\n",
    "        fattori.append(i) #aggiunti tutti i fattori i che soddisfano la condizione presi dai numeri primi\n",
    "        n //= i #divisione tra il numero immesso e il numero primo in sequenza\n",
    "    i += 1 #incremento del numero primo per verificare anche gli altri \n",
    "\n",
    "print(fattori)"
   ]
  },
  {
   "cell_type": "code",
   "execution_count": 53,
   "id": "5d833a07-daed-4297-9f0d-8ca3438997d0",
   "metadata": {},
   "outputs": [
    {
     "name": "stdout",
     "output_type": "stream",
     "text": [
      "E\n",
      "p\n",
      "i\n",
      "c\n",
      "o\n",
      "d\n",
      "e\n"
     ]
    }
   ],
   "source": [
    "#Esercizio 8)\n",
    "nome_scuola = \"Epicode\"\n",
    "\n",
    "for carattere in nome_scuola:\n",
    "    print(carattere)"
   ]
  },
  {
   "cell_type": "code",
   "execution_count": 54,
   "id": "b7cb650d-7409-4f5b-849a-9edf96145028",
   "metadata": {},
   "outputs": [
    {
     "name": "stdout",
     "output_type": "stream",
     "text": [
      "1\n",
      "2\n",
      "4\n",
      "8\n",
      "16\n",
      "32\n",
      "64\n",
      "128\n",
      "256\n",
      "512\n"
     ]
    }
   ],
   "source": [
    "#Esercizio 9)\n",
    "for esponente in range(10):\n",
    "    potenza = 2 ** esponente\n",
    "    print(potenza)"
   ]
  },
  {
   "cell_type": "code",
   "execution_count": 1,
   "id": "7f806e59-5fe8-45c3-80df-ff1c30ccb5d1",
   "metadata": {},
   "outputs": [
    {
     "name": "stdin",
     "output_type": "stream",
     "text": [
      "Inserisci il numero di potenze da calcolare (N):  5\n",
      "Inserisci il valore di K:  3\n"
     ]
    },
    {
     "name": "stdout",
     "output_type": "stream",
     "text": [
      "Le prime 5 potenze di 3 sono: [1, 3, 9, 27, 81]\n"
     ]
    }
   ],
   "source": [
    "#Esercizio 10) Metodo WHILE\n",
    "N = int(input(\"Inserisci il numero di potenze da calcolare (N): \")) #inserire il valore delle potenze\n",
    "K = int(input(\"Inserisci il valore di K: \")) #inserire il valore su cui calcolare le potenze\n",
    "\n",
    "lista_potenze = [] \n",
    "esponente = 0\n",
    "\n",
    "\n",
    "while esponente < N:\n",
    "    potenza = K ** esponente\n",
    "    lista_potenze.append(potenza)\n",
    "    esponente += 1\n",
    "\n",
    "print(\"Le prime\", N, \"potenze di\", K, \"sono:\", lista_potenze)\n",
    "\n",
    "\n",
    "\n"
   ]
  },
  {
   "cell_type": "code",
   "execution_count": null,
   "id": "50561018-fc1b-41f0-8864-720b484f0943",
   "metadata": {},
   "outputs": [],
   "source": [
    "#Esercizio 10) Metodo FOR\n",
    "N = int(input(\"Inserisci il numero di potenze da calcolare (N): \")) #inserire il valore delle potenze\n",
    "K = int(input(\"Inserisci il valore di K: \")) #inserire il valore su cui calcolare le potenze\n",
    "\n",
    "lista_potenze = []\n",
    "\n",
    "for esponente in range(N):\n",
    "    potenza = K ** esponente\n",
    "    lista_potenze.append(potenza)\n",
    "\n",
    "print(\"Le prime\", N, \"potenze di\", K, \"sono:\", lista_potenze)\n"
   ]
  },
  {
   "cell_type": "code",
   "execution_count": 8,
   "id": "78d2b080-b10c-4883-b7c4-cd546676f6da",
   "metadata": {},
   "outputs": [
    {
     "name": "stdout",
     "output_type": "stream",
     "text": [
      "La media dei guadagni per questo mese è: 8.333333333333334\n",
      "La media dei guadagni per questo mese è: 15.833333333333334\n",
      "La media dei guadagni per questo mese è: 21.666666666666668\n",
      "La media dei guadagni per questo mese è: 25.0\n",
      "La media dei guadagni per questo mese è: 29.166666666666668\n",
      "La media dei guadagni per questo mese è: 35.833333333333336\n",
      "La media dei guadagni per questo mese è: 43.333333333333336\n",
      "La media dei guadagni per questo mese è: 53.333333333333336\n",
      "La media dei guadagni per questo mese è: 60.0\n",
      "La media dei guadagni per questo mese è: 61.666666666666664\n",
      "La media dei guadagni per questo mese è: 65.83333333333333\n",
      "La media dei guadagni per questo mese è: 70.0\n"
     ]
    }
   ],
   "source": [
    "#Esercizio 11)\n",
    "guadagni = [100, 90, 70, 40, 50, 80, 90, 120, 80, 20, 50, 50] #inizializzazione guadagni\n",
    "\n",
    "somma = 0 #inizializzazione somma\n",
    "for guadagno in guadagni: #ciclo for per ogni guadagno in guadagni\n",
    "    somma += guadagno #somma ogni guadagno con \"somma\"\n",
    "    media = somma / len(guadagni) #fai la media con la somma dei guadagni e il numero di elementi dell'insieme\n",
    "    \n",
    "    print(\"La media dei guadagni per questo mese è:\", media)"
   ]
  },
  {
   "cell_type": "code",
   "execution_count": 14,
   "id": "66215ac4-1f1a-4a3f-ab0a-22ab4733ac78",
   "metadata": {},
   "outputs": [
    {
     "name": "stdout",
     "output_type": "stream",
     "text": [
      "la parola 'Albergo' contiene 1 lettera 'e'.\n",
      "la parola 'Sedia' contiene 1 lettera 'e'.\n",
      "la parola 'Borgo' contiene 0 lettera 'e'.\n",
      "la parola 'Petalo' contiene 1 lettera 'e'.\n",
      "la parola 'Eremo' contiene 2 lettera 'e'.\n",
      "la parola 'Belvedere' contiene 4 lettera 'e'.\n",
      "la parola 'Semestre' contiene 3 lettera 'e'.\n",
      "la parola 'Esteta' contiene 2 lettera 'e'.\n",
      "la parola 'Sosta' contiene 0 lettera 'e'.\n",
      "la parola 'Orpello' contiene 1 lettera 'e'.\n",
      "la parola 'Abete' contiene 2 lettera 'e'.\n",
      "la parola 'Orologio' contiene 0 lettera 'e'.\n",
      "la parola 'Cesta' contiene 1 lettera 'e'.\n",
      "la parola 'Ermellino' contiene 2 lettera 'e'.\n"
     ]
    }
   ],
   "source": [
    "#Esercizio 12)\n",
    "parole = [\"Albergo\", \"Sedia\", \"Borgo\", \"Petalo\", \"Eremo\", \"Belvedere\",\n",
    "          \"Semestre\", \"Esteta\", \"Sosta\", \"Orpello\", \"Abete\", \"Orologio\", \"Cesta\", \"Ermellino\"] #insieme parole\n",
    "for parola in parole: #ciclo for per ogni parola nell'insieme\n",
    "    conta_di_e = parola.lower().count(\"e\") #conta le lettere \"e\" in ogni parola considerando le minuscole\n",
    "    print(f\"la parola '{parola}' contiene {conta_di_e} lettera 'e'.\") # f= funzione in cui possiamo inserire i valori trovati nella stringa in automatico\n"
   ]
  },
  {
   "cell_type": "code",
   "execution_count": 28,
   "id": "ac91e84a-ba90-4b38-8094-76342ccbec95",
   "metadata": {},
   "outputs": [
    {
     "name": "stdout",
     "output_type": "stream",
     "text": [
      "{'ada': 'punto', 'ben': 'multipla', 'charlie': 'golf', 'debbie': '107'}\n",
      "L'auto di Debbie è:  107\n"
     ]
    }
   ],
   "source": [
    "#Esercizio 13)\n",
    "proprietari_auto = { #creazione dizionario con coppie chiave\n",
    "    \"ada\": \"punto\",\n",
    "    \"ben\": \"multipla\",\n",
    "    \"charlie\": \"golf\",\n",
    "    \"debbie\":\"107\"}\n",
    "print(proprietari_auto) #stampa del dizionario\n",
    "print(\"L'auto di Debbie è: \", proprietari_auto[\"debbie\"]) #stampa solo la coppia chiave di debbie"
   ]
  },
  {
   "cell_type": "code",
   "execution_count": 29,
   "id": "ce581cb4-d7c7-4ee8-a1e3-40eab6ed0545",
   "metadata": {},
   "outputs": [
    {
     "name": "stdout",
     "output_type": "stream",
     "text": [
      "Punto\n",
      "Golf\n",
      "107\n"
     ]
    }
   ],
   "source": [
    "#Esercizio 14)\n",
    "dizionario_auto = {\"Ada\": \"Punto\", \"Ben\": \"Multipla\", \"Charlie\": \"Golf\", \"Debbie\": \"107\"} #inizializzazione dizionario\n",
    "\n",
    "for auto in dizionario_auto.values(): #ciclo for per ogni auto nel dizionario\n",
    "    if auto != \"Multipla\": #condizione di controllo in cui il valore sia diverso (!=) da Multipla\n",
    "        print(auto)\n"
   ]
  },
  {
   "cell_type": "code",
   "execution_count": 31,
   "id": "94e287b8-507f-4b03-b736-ae3c5553a593",
   "metadata": {},
   "outputs": [
    {
     "name": "stdout",
     "output_type": "stream",
     "text": [
      "{'Ada': 'Punto', 'Ben': 'Polo', 'Charlie': 'Golf', 'Debbie': '107', 'Emily': 'A1', 'Fred': 'Octavia', 'Grace': 'Yaris', 'Hugh': 'Clio'}\n"
     ]
    }
   ],
   "source": [
    "#Esercizio 15)\n",
    "dizionario_auto = {\"Ada\": \"Punto\", \"Ben\": \"Multipla\", \"Charlie\": \"Golf\", \"Debbie\": \"107\", \"Emily\": \"A1\"}\n",
    "nuovi_proprietari = {\"Ben\": \"Polo\", \"Fred\": \"Octavia\", \"Grace\": \"Yaris\", \"Hugh\": \"Clio\"}\n",
    "\n",
    "dizionario_auto.update(nuovi_proprietari) #aggiornamento coi nuovi proprietari\n",
    "\n",
    "print(dizionario_auto) #stampa con aggiornamento, Ben ha una nuova macchina\n"
   ]
  },
  {
   "cell_type": "code",
   "execution_count": null,
   "id": "a1228774-8c02-48a5-90d0-e2f59a8f55f5",
   "metadata": {},
   "outputs": [],
   "source": []
  }
 ],
 "metadata": {
  "kernelspec": {
   "display_name": "Python 3 (ipykernel)",
   "language": "python",
   "name": "python3"
  },
  "language_info": {
   "codemirror_mode": {
    "name": "ipython",
    "version": 3
   },
   "file_extension": ".py",
   "mimetype": "text/x-python",
   "name": "python",
   "nbconvert_exporter": "python",
   "pygments_lexer": "ipython3",
   "version": "3.13.5"
  }
 },
 "nbformat": 4,
 "nbformat_minor": 5
}
