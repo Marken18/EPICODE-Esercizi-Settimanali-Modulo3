{
 "cells": [
  {
   "cell_type": "code",
   "execution_count": null,
   "id": "17ef82f1-2c3f-42c6-aa0f-5fcaa9679785",
   "metadata": {},
   "outputs": [],
   "source": [
    "#esercizio 1) scrivi un algoritmo in forma testuale di qualsiasi tipo\n",
    "#Consegnare un esercizio settimanle svolto di Epicode:\n",
    "#1. Accendere il Pc;\n",
    "#2. Entrare sul Browser predefinito;\n",
    "#3. Entrare nel sito della piattaforma;\n",
    "#4. Cercare l'esercizio da svolgere per la settimana indicata;\n",
    "#5. Seguire le consegne dell'esercizio;\n",
    "#6. Risolvere il problema posto nelle consegne;\n",
    "#7. Salvare il file finito;\n",
    "#8. Mettere/inviare il file finito sul proprio GitHub;\n",
    "#9. Caricare il repository del proprio GitHub sulla piattaforma di Epicode.\n",
    "\n",
    "#Lavarsi i denti\n",
    "#1. Andare in bagno;\n",
    "#2. Prendere lo spazzolino;\n",
    "#3. Prendere il dentifricio;\n",
    "#4. Applicare il dentrificio nello spazzolino;\n",
    "#5. Spazzolare i denti;\n",
    "#6. Aprire l'acqua corrente e sciacquare lo spazzolino e poi richiuderla;\n",
    "#7. Ripeti 5 fino a che non sono puliti;\n",
    "#8. Ripeti 6;\n",
    "#9. Sciacqua la bocca;\n",
    "#10. Rimetti a loro posto lo spazzolino e il dentifricio.\n",
    "\n",
    "\n",
    "#Bere un bicchiere d'acqua\n",
    "#1. prendere una bottiglia d'acqua;\n",
    "#2. prendere un bicchiere pulito e vuoto;\n",
    "#3. versare l'acqua nel bicchiere vuoto;\n",
    "#4. bere l'acqua nel bicchiere;\n",
    "#5. riporre tutto al proprio posto.\n"
   ]
  },
  {
   "cell_type": "code",
   "execution_count": null,
   "id": "4a76b92a-168c-4b31-bb6c-147ead8561e6",
   "metadata": {},
   "outputs": [],
   "source": [
    "#Esercizio 2)\n",
    "studenti = 25"
   ]
  },
  {
   "cell_type": "code",
   "execution_count": 5,
   "id": "cab0f708-ada1-4162-8548-ca2d4aa7b4ab",
   "metadata": {},
   "outputs": [
    {
     "name": "stdout",
     "output_type": "stream",
     "text": [
      "25\n"
     ]
    }
   ],
   "source": [
    "#Esercizio 3)\n",
    "studenti = 25\n",
    "print(studenti)"
   ]
  },
  {
   "cell_type": "code",
   "execution_count": null,
   "id": "e5ee409b-9870-4284-9349-0a6c4e5b1878",
   "metadata": {},
   "outputs": [],
   "source": [
    "#Esercizio 4)\n",
    "studenti = 25\n",
    "nuovi_studenti = 3"
   ]
  },
  {
   "cell_type": "code",
   "execution_count": 6,
   "id": "4b085ab5-0a78-483c-9dbd-7d87f01f9ad0",
   "metadata": {},
   "outputs": [
    {
     "name": "stdout",
     "output_type": "stream",
     "text": [
      "28\n"
     ]
    }
   ],
   "source": [
    "#Esercizio 5)\n",
    "studenti = 25\n",
    "nuovi_studenti = 3\n",
    "totale_studenti = (studenti + nuovi_studenti)\n",
    "print(totale_studenti)"
   ]
  },
  {
   "cell_type": "code",
   "execution_count": 8,
   "id": "26e2c5d4-55cf-4537-8468-3d66a1ebf140",
   "metadata": {},
   "outputs": [
    {
     "name": "stdout",
     "output_type": "stream",
     "text": [
      "Epicode\n"
     ]
    }
   ],
   "source": [
    "#Esercizio 6)\n",
    "str1=\"Epicode\"\n",
    "print(str1)"
   ]
  },
  {
   "cell_type": "code",
   "execution_count": 10,
   "id": "588688f6-2ab2-4a5c-b594-3867841da0f3",
   "metadata": {},
   "outputs": [
    {
     "name": "stdout",
     "output_type": "stream",
     "text": [
      "36\n"
     ]
    }
   ],
   "source": [
    "#Esercizio 7)\n",
    "X = 10 \n",
    "Y = ((X + 2) * 3)\n",
    "print (Y)"
   ]
  },
  {
   "cell_type": "code",
   "execution_count": 24,
   "id": "ecbff619-e2c1-438d-9c56-28de0295509d",
   "metadata": {},
   "outputs": [
    {
     "name": "stdout",
     "output_type": "stream",
     "text": [
      "7\n",
      "5\n",
      "10\n",
      "4\n"
     ]
    }
   ],
   "source": [
    "#Esercizio 8)\n",
    "str1 = \"Windows\"  \n",
    "str2 = \"Excel\" \n",
    "str3 = \"Powerpoint\" \n",
    "str4 = \"Word\"\n",
    "\n",
    "Lunghezza_1 = len(str1)\n",
    "Lunghezza_2 = len(str2)\n",
    "Lunghezza_3 = len(str3)\n",
    "Lunghezza_4 = len(str4)\n",
    "print(Lunghezza_1)\n",
    "print(Lunghezza_2)\n",
    "print(Lunghezza_3)\n",
    "print(Lunghezza_4)\n"
   ]
  },
  {
   "cell_type": "code",
   "execution_count": 26,
   "id": "39869a22-b922-48f7-b7a3-d8cbd53c013e",
   "metadata": {},
   "outputs": [
    {
     "name": "stdout",
     "output_type": "stream",
     "text": [
      "31536000\n"
     ]
    }
   ],
   "source": [
    "#Esercizio 9) \n",
    "#Anno = Anno non bisestile\n",
    "Giorni_Anno = 365 #giorni\n",
    "Ore_Giorno = 24 #ore\n",
    "Minuti_Ora = 60 #minuti\n",
    "Secondi_Minuto = 60 #secondi\n",
    "\n",
    "Secondi_Anno = Giorni_Anno * Ore_Giorno * Minuti_Ora * Secondi_Minuto\n",
    "print(Secondi_Anno)"
   ]
  },
  {
   "cell_type": "code",
   "execution_count": 41,
   "id": "3af57147-76b5-4511-b05b-2f23826f46ce",
   "metadata": {},
   "outputs": [
    {
     "name": "stdout",
     "output_type": "stream",
     "text": [
      "I am studying a lot\n"
     ]
    },
    {
     "data": {
      "text/plain": [
       "['I', 'am', 'studying', 'a', 'lot']"
      ]
     },
     "execution_count": 41,
     "metadata": {},
     "output_type": "execute_result"
    }
   ],
   "source": [
    "#Esercizio 10)\n",
    "my_string = \"I am studying Python\"\n",
    "str.upper(my_string)\n",
    "str.lower(my_string)\n",
    "new_string = my_string.replace(\"Python\",\"a lot\")\n",
    "str.strip(new_string) #non cambia nulla perchè non ci sono spazi vuoti all'inizio o alla fine della stringa \n",
    "print(new_string)\n",
    "new_string.split() #per trovare tutte le parole della nuova stringa\n"
   ]
  },
  {
   "cell_type": "code",
   "execution_count": 44,
   "id": "84869f40-9661-414e-9591-81cfc3e4fff8",
   "metadata": {},
   "outputs": [
    {
     "name": "stdout",
     "output_type": "stream",
     "text": [
      "['Alex', 'Bob', 'Cindy', 'Dan', 'Emma', 'Faith', 'Grace', 'Henry']\n",
      "['Cybersecurity', 'Data Analyst', 'Backend', 'Frontend', 'Data Analyst', 'Backend', 'Fronted', 'Cybersecurity']\n"
     ]
    }
   ],
   "source": [
    "#Esercizio 11)\n",
    "studenti = [\"Alex\", \"Bob\", \"Cindy\", \"Dan\", \"Emma\", \"Faith\", \"Grace\", \"Henry\"] \n",
    "corsi = [\"Cybersecurity\", \"Data Analyst\", \"Backend\", \"Frontend\", \"Data Analyst\", \"Backend\"]\n",
    "corsi.append(\"Fronted\") \n",
    "corsi.append(\"Cybersecurity\")\n",
    "print(studenti)\n",
    "print(corsi)\n",
    "\n"
   ]
  },
  {
   "cell_type": "code",
   "execution_count": null,
   "id": "9908d9ec-f01d-4de5-b78f-a296257d3b02",
   "metadata": {},
   "outputs": [],
   "source": []
  },
  {
   "cell_type": "code",
   "execution_count": null,
   "id": "d5f2ea81-b21c-41b7-b250-d4ddfc75eec0",
   "metadata": {},
   "outputs": [],
   "source": []
  }
 ],
 "metadata": {
  "kernelspec": {
   "display_name": "Python 3 (ipykernel)",
   "language": "python",
   "name": "python3"
  },
  "language_info": {
   "codemirror_mode": {
    "name": "ipython",
    "version": 3
   },
   "file_extension": ".py",
   "mimetype": "text/x-python",
   "name": "python",
   "nbconvert_exporter": "python",
   "pygments_lexer": "ipython3",
   "version": "3.13.5"
  }
 },
 "nbformat": 4,
 "nbformat_minor": 5
}
