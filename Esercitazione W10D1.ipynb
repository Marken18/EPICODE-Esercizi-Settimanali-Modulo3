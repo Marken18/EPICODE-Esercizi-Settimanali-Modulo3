{
 "cells": [
  {
   "cell_type": "code",
   "execution_count": 1,
   "id": "fa64a036-011b-404a-b96b-991527fca010",
   "metadata": {},
   "outputs": [],
   "source": [
    "import math\n"
   ]
  },
  {
   "cell_type": "code",
   "execution_count": 11,
   "id": "d87408dc-618a-4165-82d0-b51da090ae49",
   "metadata": {},
   "outputs": [
    {
     "name": "stdout",
     "output_type": "stream",
     "text": [
      "3\n",
      "8\n",
      "13\n"
     ]
    }
   ],
   "source": [
    "#Esercizio 1)\n",
    "mat = [[0, 1, 2, 3, 4], \n",
    "       [5, 6, 7, 8, 9], \n",
    "       [10, 11, 12, 13, 14]] #lista con più liste \n",
    "\n",
    "print (mat[0][3]) #stampato l'elemento nell'indice 0 alla colonna 3\n",
    "print (mat[1][3]) #stampato l'elemento nell'indice 1 alla colonna 3\n",
    "print (mat[2][3]) #stampato l'elemento nell'indice 2 alla colonna 3"
   ]
  },
  {
   "cell_type": "code",
   "execution_count": 18,
   "id": "de4231fc-7d54-45ef-b886-f97821e2114b",
   "metadata": {},
   "outputs": [
    {
     "data": {
      "text/plain": [
       "0.1411200080598672"
      ]
     },
     "execution_count": 18,
     "metadata": {},
     "output_type": "execute_result"
    }
   ],
   "source": [
    "#Esercizio 2)\n",
    "numero = 3\n",
    "\n",
    "math.sin(numero)"
   ]
  },
  {
   "cell_type": "code",
   "execution_count": 19,
   "id": "9e04812c-71a2-4f9f-9661-0808aa18303f",
   "metadata": {},
   "outputs": [
    {
     "data": {
      "text/plain": [
       "6"
      ]
     },
     "execution_count": 19,
     "metadata": {},
     "output_type": "execute_result"
    }
   ],
   "source": [
    "math.factorial(numero)"
   ]
  },
  {
   "cell_type": "code",
   "execution_count": 20,
   "id": "c317c2ab-bac2-4ebb-b43b-21dbaceaa067",
   "metadata": {},
   "outputs": [
    {
     "data": {
      "text/plain": [
       "-0.9899924966004454"
      ]
     },
     "execution_count": 20,
     "metadata": {},
     "output_type": "execute_result"
    }
   ],
   "source": [
    "math.cos(numero)"
   ]
  },
  {
   "cell_type": "code",
   "execution_count": 24,
   "id": "e9eae2de-4ed5-488d-bcd1-c20076b3dab3",
   "metadata": {},
   "outputs": [
    {
     "data": {
      "text/plain": [
       "180.0"
      ]
     },
     "execution_count": 24,
     "metadata": {},
     "output_type": "execute_result"
    }
   ],
   "source": [
    "#Esercizio 3)\n",
    "math.degrees(math.pi)\n"
   ]
  },
  {
   "cell_type": "code",
   "execution_count": 25,
   "id": "cd38de4e-81b9-436e-988d-3dafe580c524",
   "metadata": {},
   "outputs": [
    {
     "name": "stdout",
     "output_type": "stream",
     "text": [
      "Help on built-in function degrees in module math:\n",
      "\n",
      "degrees(x, /)\n",
      "    Convert angle x from radians to degrees.\n",
      "\n"
     ]
    }
   ],
   "source": [
    "help(math.degrees)"
   ]
  },
  {
   "cell_type": "code",
   "execution_count": 33,
   "id": "061965be-e514-4026-948c-c6a0ed218245",
   "metadata": {},
   "outputs": [
    {
     "name": "stdout",
     "output_type": "stream",
     "text": [
      "8150\n",
      "1280\n",
      "[5500 7200 6410 8150 7100 5350]\n",
      "[2000 1280 1900 2500]\n",
      "4634.166666666667\n"
     ]
    }
   ],
   "source": [
    "#Esericizio 4)\n",
    "import numpy as np\n",
    "\n",
    "lst = [2000, 5500, 7200, 4320, 1280, 1900, 2500, 3900, 6410, 8150, 7100, 5350]\n",
    "lst = np.array(lst) #lista convertita in array\n",
    "\n",
    "type(lst)\n",
    "\n",
    "max_vendita= np.max(lst) #massimo nelle vendite\n",
    "min_vendita= np.min(lst) #minimo nelle vendite\n",
    "maggiori_5000= lst[lst>5000] #vendite maggiori di 5000\n",
    "minori_3000= lst[lst<3000] #vendite minori di 3000\n",
    "media_mensile= np.mean(lst) #media di vendite mensile\n",
    "\n",
    "print (max_vendita)\n",
    "print (min_vendita)\n",
    "print (maggiori_5000)\n",
    "print (minori_3000)\n",
    "print (media_mensile)"
   ]
  },
  {
   "cell_type": "code",
   "execution_count": 37,
   "id": "d608f528-d99c-4d92-895a-cf8520af03f5",
   "metadata": {},
   "outputs": [
    {
     "data": {
      "text/plain": [
       "np.int64(12000)"
      ]
     },
     "execution_count": 37,
     "metadata": {},
     "output_type": "execute_result"
    }
   ],
   "source": [
    "#Esercizio 5)\n",
    "import pandas as pd\n",
    "fatturati_dict = {1997: 12_000, 1998: 15_000, #il dizionario crea una raccolta di coppie valori-chiave immutabili con qualsiasi tipo di dato\n",
    "                  1999: 20_000, 2000: 23_000, \n",
    "                  2001: 25_000, 2002: 17_000, \n",
    "                  2003: 14_000, 2004: 21_000}\n",
    "\n",
    "#la series permette di fare più operazioni di modifica perchè permette la manipolazione della struttura dei dati, al contrario del dizionario, \n",
    "#ma solo dati dello stesso tipo al contrario del dizionario che può averne diversi\n",
    "fatturati_series = pd.Series([12_000, 15_000, 20_000, 23_000, 25_000, 17_000, 14_000, 21_000], index=range(1997, 2005)) \n",
    "\n",
    "fatturati_dict[1997] \n",
    "fatturati_series[1997]"
   ]
  },
  {
   "cell_type": "code",
   "execution_count": 81,
   "id": "691bf0f7-7ae9-4586-a084-6404f78ec621",
   "metadata": {},
   "outputs": [
    {
     "name": "stdout",
     "output_type": "stream",
     "text": [
      "200\n",
      "400\n",
      "600\n",
      "800\n",
      "1000\n",
      "1200\n",
      "1400\n",
      "1600\n",
      "1800\n",
      "2000\n"
     ]
    }
   ],
   "source": [
    "#Esercizio 6) Metodo FOR\n",
    "import numpy as np\n",
    "\n",
    "stipendi = np.array([100, 200, 300, 400, 500, 600, 700, 800, 900, 1000])\n",
    "\n",
    "for stipendio in stipendi:\n",
    "    stipendio *=2\n",
    "    print (stipendio)"
   ]
  },
  {
   "cell_type": "code",
   "execution_count": 84,
   "id": "c9db1e14-f6b0-46f0-b4c5-08a96f3716b6",
   "metadata": {},
   "outputs": [
    {
     "data": {
      "text/plain": [
       "array([ 200,  400,  600,  800, 1000, 1200, 1400, 1600, 1800, 2000])"
      ]
     },
     "execution_count": 84,
     "metadata": {},
     "output_type": "execute_result"
    }
   ],
   "source": [
    "#Esercizio 6) Metodo MASKING\n",
    "import numpy as np\n",
    "\n",
    "stipendi = np.array([100, 200, 300, 400, 500, 600, 700, 800, 900, 1000])\n",
    "\n",
    "stipendi * 2"
   ]
  },
  {
   "cell_type": "code",
   "execution_count": 36,
   "id": "e1e1690e-5055-4f2f-92a9-4f3b53a77c9b",
   "metadata": {},
   "outputs": [],
   "source": [
    "#Esercizio 7) "
   ]
  },
  {
   "cell_type": "code",
   "execution_count": null,
   "id": "91ddf189-122f-41df-8d95-bb3cb74ecf4d",
   "metadata": {},
   "outputs": [],
   "source": [
    "#Esercizio 8)"
   ]
  },
  {
   "cell_type": "code",
   "execution_count": 14,
   "id": "e9b38f02-67b4-47d9-b2b1-d76952253c21",
   "metadata": {},
   "outputs": [
    {
     "name": "stdin",
     "output_type": "stream",
     "text": [
      "Inserisci una lista di numeri separati da spazio:  5 6 3 4\n"
     ]
    },
    {
     "name": "stdout",
     "output_type": "stream",
     "text": [
      "*****\n",
      "******\n",
      "***\n",
      "****\n"
     ]
    }
   ],
   "source": [
    "#Esercizio 9) \n",
    "\n",
    "input_str = input(\"Inserisci una lista di numeri separati da spazio: \") #inserire lista numeri da utente\n",
    "numeri = list(map(int, input_str.split())) #creare una lista nominata numeri in cui ogni elemento è un intero dell'input seperato da uno spazio\n",
    "\n",
    "for num in numeri: #ciclo for per ogni numero in numeri\n",
    "    print('*' * num)"
   ]
  },
  {
   "cell_type": "code",
   "execution_count": 18,
   "id": "00fa9b41-f9d6-460f-95e3-c905a9e754ff",
   "metadata": {},
   "outputs": [
    {
     "name": "stdout",
     "output_type": "stream",
     "text": [
      "Codice fiscale: ABCDEF95G01A123B\n",
      "Nome e Cognome: ABCDEF\n",
      "\n",
      "Codice fiscale: STUVWX95Z04A654E\n",
      "Nome e Cognome: STUVWX\n",
      "\n",
      "Codice fiscale: DEFGHI95J06A987G\n",
      "Nome e Cognome: DEFGHI\n",
      "\n",
      "Codici fiscali che contengono '95':\n",
      "['ABCDEF95G01A123B', 'STUVWX95Z04A654E', 'DEFGHI95J06A987G']\n"
     ]
    }
   ],
   "source": [
    "#Esercizio 10)\n",
    "lista_cf = [\"ABCDEF95G01A123B\", \"GHIJKL91M02A321C\", \"MNOPQR89S03A456D\", \"STUVWX95Z04A654E\", \"XYZABC01D05A789F\", \"DEFGHI95J06A987G\"]\n",
    "\n",
    "cf_con_95 = [] #lista vuota che prenderà i codici che hanno 95 in essi\n",
    "\n",
    "for cf in lista_cf:   #ciclo for per ogni elemento per vedere se è presente 95\n",
    "    if \"95\" in cf:\n",
    "        cf_con_95.append(cf) #aggiungere elementi in lista vuota creata prima se si verifica la condizione\n",
    "        nome_cognome = cf[0:6] #range di elementi del CF per prendere il nome e cognome\n",
    "        print(f\"Codice fiscale: {cf}\")\n",
    "        print(f\"Nome e Cognome: {nome_cognome}\")\n",
    "        print()  # riga vuota per leggibilità\n",
    "\n",
    "print(\"Codici fiscali che contengono '95':\")\n",
    "print(cf_con_95)"
   ]
  },
  {
   "cell_type": "code",
   "execution_count": 24,
   "id": "3bbab049-408a-4a84-ac69-82e59cdbc4be",
   "metadata": {},
   "outputs": [
    {
     "name": "stdout",
     "output_type": "stream",
     "text": [
      "Alex\n",
      "Faith\n"
     ]
    }
   ],
   "source": [
    "#Esercizio 11)\n",
    "\n",
    "studenti = [\"Alex\", \"Bob\", \"Cindy\", \"Dan\", \"Emma\", \"Faith\", \"Grace\", \"Henry\"] \n",
    "corsi = [\"Cybersecurity\", \"Data Analyst\", \"Backend\", \"Frontend\", \"Data Analyst\", \"Backend\", \"Frontend\", \"Cybersecurity\"] \n",
    "edizioni = [1, 2, 3, 2, 2, 1, 3, 3]\n",
    "\n",
    "for i in range(len(studenti)): #per ogni elemento nel range di studenti\n",
    "    if edizioni[i] == 1: #se corrisponde a la posizione dell'elemento 1\n",
    "        print(studenti [i]) #stampa l'elemento corrispondente \n",
    "   \n"
   ]
  },
  {
   "cell_type": "code",
   "execution_count": 25,
   "id": "1e0a6cf7-cafa-42ec-9249-858ff9ff3636",
   "metadata": {},
   "outputs": [
    {
     "name": "stdout",
     "output_type": "stream",
     "text": [
      "['100 $', '200 $', '500 $', '10 $', '50 $', '70 $']\n"
     ]
    }
   ],
   "source": [
    "#Esercizio 12)\n",
    "\n",
    "prezzi = [\"100 €\", \"200 €\", \"500 €\", \"10 €\", \"50 €\", \"70 €\"]\n",
    "prezzi_doll = [prezzo.replace (\"€\",\"$\") for prezzo in prezzi] #per ogni prezzo in prezzi, rimpiazza l'euro col dollaro\n",
    "print (prezzi_doll)"
   ]
  },
  {
   "cell_type": "code",
   "execution_count": 22,
   "id": "be7796b7-218f-46e0-a34e-7b16a75ce3a9",
   "metadata": {},
   "outputs": [
    {
     "name": "stdout",
     "output_type": "stream",
     "text": [
      "Squadra con posizioni pari: ['Alex', 'Cindy', 'Emma', 'Grace', 'Isabelle']\n",
      "Squadra con posizioni dispari: ['Bob', 'Dan', 'Faith', 'Henry', 'John']\n"
     ]
    }
   ],
   "source": [
    "#Esercizio 13)\n",
    "\n",
    "studenti = [\"Alex\", \"Bob\", \"Cindy\", \"Dan\", \"Emma\", \"Faith\", \"Grace\", \"Henry\", \"Isabelle\", \"John\"]\n",
    "\n",
    "squadra_pari = [] #Lista pari\n",
    "squadra_dispari = [] #lista dispari\n",
    "\n",
    "for i, nome in enumerate(studenti): #per ogni elemento di studenti \n",
    "    if i % 2 == 0: #se diviso 2 non dà resto (modulo) allora è pari\n",
    "      \n",
    "        squadra_pari.append(nome) #aggiungi il nome a pari\n",
    "    else:\n",
    "        squadra_dispari.append(nome) #altrimenti aggiungi a dispari\n",
    "\n",
    "print(\"Squadra con posizioni pari:\", squadra_pari)\n",
    "print(\"Squadra con posizioni dispari:\", squadra_dispari)"
   ]
  },
  {
   "cell_type": "code",
   "execution_count": 35,
   "id": "24d7f3b8-c323-4a39-adb9-0ad3a34103d8",
   "metadata": {},
   "outputs": [
    {
     "name": "stdout",
     "output_type": "stream",
     "text": [
      "Mese 1: 100 € (nessuna media precedente)\n",
      "Mese 2: 90 € (media prec: 100.00 € - il guadagno attuale è minore)\n",
      "Mese 3: 70 € (media prec: 95.00 € - il guadagno attuale è minore)\n",
      "Mese 4: 40 € (media prec: 86.67 € - il guadagno attuale è minore)\n",
      "Mese 5: 50 € (media prec: 75.00 € - il guadagno attuale è minore)\n",
      "Mese 6: 80 € (media prec: 70.00 € - il guadagno attuale è maggiore)\n",
      "Mese 7: 90 € (media prec: 71.67 € - il guadagno attuale è maggiore)\n",
      "Mese 8: 120 € (media prec: 74.29 € - il guadagno attuale è maggiore)\n",
      "Mese 9: 80 € (media prec: 80.00 € - il guadagno attuale è uguale)\n",
      "Mese 10: 20 € (media prec: 80.00 € - il guadagno attuale è minore)\n",
      "Mese 11: 50 € (media prec: 74.00 € - il guadagno attuale è minore)\n",
      "Mese 12: 50 € (media prec: 71.82 € - il guadagno attuale è minore)\n"
     ]
    }
   ],
   "source": [
    "#Esercizio 14)\n",
    "\n",
    "guadagni = [100, 90, 70, 40, 50, 80, 90, 120, 80, 20, 50, 50]\n",
    "\n",
    "somma_precedenti = 0 #variabile a 0 per poter aver una somma sui cui lavorare\n",
    "\n",
    "#predisposizione dei mesi\n",
    "for i in range(len(guadagni)): #per ogni elemento di guadagni\n",
    "    guadagno_corrente = guadagni[i] #nuova variabile per semplificare\n",
    "    mese = i + 1 #incremento di 1\n",
    "    \n",
    "   \n",
    "    if i == 0: #se il primo è elemento è nella posizione zero ovvero il primo, la media precedente è zero\n",
    "        media_precedenti = 0\n",
    "        print(f\"Mese {mese}: {guadagno_corrente} € (nessuna media precedente)\") #calcolo del primo mese con stampa di testo esclusivo\n",
    "    else:\n",
    "        media_precedenti = somma_precedenti / i #formula media\n",
    "        \n",
    "        #confronto tra i guadagni \n",
    "        if guadagno_corrente > media_precedenti:\n",
    "            confronto = \"maggiore\"\n",
    "        elif guadagno_corrente < media_precedenti:\n",
    "            confronto = \"minore\"\n",
    "        else:\n",
    "            confronto = \"uguale\" \n",
    "        print(f\"Mese {mese}: {guadagno_corrente} € (media prec: {media_precedenti:.2f} € - il guadagno attuale è {confronto})\")\n",
    "    \n",
    "    somma_precedenti += guadagno_corrente #aggiorna la somma tra i mesi precedenti e il mese corrente"
   ]
  },
  {
   "cell_type": "code",
   "execution_count": null,
   "id": "99a77e2f-2c19-4f79-826a-1bbdba1e991f",
   "metadata": {},
   "outputs": [],
   "source": []
  }
 ],
 "metadata": {
  "kernelspec": {
   "display_name": "Python 3 (ipykernel)",
   "language": "python",
   "name": "python3"
  },
  "language_info": {
   "codemirror_mode": {
    "name": "ipython",
    "version": 3
   },
   "file_extension": ".py",
   "mimetype": "text/x-python",
   "name": "python",
   "nbconvert_exporter": "python",
   "pygments_lexer": "ipython3",
   "version": "3.13.5"
  }
 },
 "nbformat": 4,
 "nbformat_minor": 5
}
